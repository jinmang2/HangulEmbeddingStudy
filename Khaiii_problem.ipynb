{
 "cells": [
  {
   "cell_type": "markdown",
   "metadata": {},
   "source": [
    "# Keras"
   ]
  },
  {
   "cell_type": "code",
   "execution_count": 1,
   "metadata": {},
   "outputs": [
    {
     "name": "stderr",
     "output_type": "stream",
     "text": [
      "Using TensorFlow backend.\n"
     ]
    }
   ],
   "source": [
    "import keras\n",
    "from keras.models import Sequential\n",
    "from keras.layers import Conv2D, MaxPooling2D"
   ]
  },
  {
   "cell_type": "code",
   "execution_count": 2,
   "metadata": {},
   "outputs": [
    {
     "data": {
      "text/plain": [
       "'2.3.1'"
      ]
     },
     "execution_count": 2,
     "metadata": {},
     "output_type": "execute_result"
    }
   ],
   "source": [
    "keras.__version__"
   ]
  },
  {
   "cell_type": "code",
   "execution_count": 4,
   "metadata": {},
   "outputs": [
    {
     "name": "stdout",
     "output_type": "stream",
     "text": [
      "Model: \"sequential_2\"\n",
      "_________________________________________________________________\n",
      "Layer (type)                 Output Shape              Param #   \n",
      "=================================================================\n",
      "conv2d_2 (Conv2D)            (None, 13, 1, 4)          64        \n",
      "_________________________________________________________________\n",
      "max_pooling2d_2 (MaxPooling2 (None, 1, 1, 4)           0         \n",
      "=================================================================\n",
      "Total params: 64\n",
      "Trainable params: 64\n",
      "Non-trainable params: 0\n",
      "_________________________________________________________________\n"
     ]
    }
   ],
   "source": [
    "model = Sequential()\n",
    "model.add(\n",
    "    Conv2D(filters=4, \n",
    "           kernel_size=(3, 5), \n",
    "           input_shape=(15, 5, 1), \n",
    "           activation='relu'))\n",
    "model.add(\n",
    "    MaxPooling2D(pool_size=(13, 1),\n",
    "                 strides=1,\n",
    "                 padding='VALID'))\n",
    "model.summary()"
   ]
  },
  {
   "cell_type": "markdown",
   "metadata": {},
   "source": [
    "# Pytorch"
   ]
  },
  {
   "cell_type": "code",
   "execution_count": 5,
   "metadata": {},
   "outputs": [],
   "source": [
    "import torch\n",
    "import torch.nn as nn\n",
    "import torch.nn.functional as F"
   ]
  },
  {
   "cell_type": "code",
   "execution_count": 6,
   "metadata": {},
   "outputs": [
    {
     "data": {
      "text/plain": [
       "'1.4.0'"
      ]
     },
     "execution_count": 6,
     "metadata": {},
     "output_type": "execute_result"
    }
   ],
   "source": [
    "torch.__version__"
   ]
  },
  {
   "cell_type": "code",
   "execution_count": 7,
   "metadata": {},
   "outputs": [
    {
     "data": {
      "text/plain": [
       "(tensor([[[[0.8235, 0.8431, 0.1640, 0.7560, 0.6869],\n",
       "           [0.3659, 0.4125, 0.7630, 0.3570, 0.1552],\n",
       "           [0.8304, 0.9273, 0.8125, 0.0655, 0.9624],\n",
       "           [0.3505, 0.3774, 0.5492, 0.0370, 0.6858],\n",
       "           [0.9734, 0.2563, 0.7946, 0.1913, 0.2040],\n",
       "           [0.7359, 0.2966, 0.8455, 0.4677, 0.9190],\n",
       "           [0.9144, 0.3682, 0.5035, 0.0262, 0.1812],\n",
       "           [0.3010, 0.4452, 0.4191, 0.9660, 0.9785],\n",
       "           [0.1070, 0.5503, 0.8952, 0.5655, 0.6980],\n",
       "           [0.8566, 0.4195, 0.5879, 0.1347, 0.9794],\n",
       "           [0.3049, 0.1109, 0.0947, 0.5166, 0.5594],\n",
       "           [0.3261, 0.5679, 0.6950, 0.9523, 0.0095],\n",
       "           [0.5963, 0.3823, 0.7146, 0.0825, 0.2468],\n",
       "           [0.9068, 0.2899, 0.0849, 0.7565, 0.1790],\n",
       "           [0.0076, 0.5029, 0.6120, 0.9846, 0.4037]]]]),\n",
       " torch.Size([1, 1, 15, 5]))"
      ]
     },
     "execution_count": 7,
     "metadata": {},
     "output_type": "execute_result"
    }
   ],
   "source": [
    "x = torch.rand(1, 1, 15, 5)\n",
    "x, x.size()"
   ]
  },
  {
   "cell_type": "code",
   "execution_count": 8,
   "metadata": {},
   "outputs": [],
   "source": [
    "conv1 = nn.Conv2d(in_channels=1,\n",
    "                  out_channels=4,\n",
    "                  kernel_size=[3, 5])"
   ]
  },
  {
   "cell_type": "code",
   "execution_count": 9,
   "metadata": {},
   "outputs": [
    {
     "data": {
      "text/plain": [
       "torch.Size([1, 4, 13, 1])"
      ]
     },
     "execution_count": 9,
     "metadata": {},
     "output_type": "execute_result"
    }
   ],
   "source": [
    "# Conv layer\n",
    "x = F.relu(conv1(x))\n",
    "x.size()"
   ]
  },
  {
   "cell_type": "code",
   "execution_count": 10,
   "metadata": {},
   "outputs": [
    {
     "data": {
      "text/plain": [
       "torch.Size([1, 4, 1, 1])"
      ]
     },
     "execution_count": 10,
     "metadata": {},
     "output_type": "execute_result"
    }
   ],
   "source": [
    "# MaxPool layer\n",
    "x = F.max_pool2d((x), (13, 1))\n",
    "x.size()"
   ]
  }
 ],
 "metadata": {
  "kernelspec": {
   "display_name": "basic",
   "language": "python",
   "name": "basic"
  },
  "language_info": {
   "codemirror_mode": {
    "name": "ipython",
    "version": 3
   },
   "file_extension": ".py",
   "mimetype": "text/x-python",
   "name": "python",
   "nbconvert_exporter": "python",
   "pygments_lexer": "ipython3",
   "version": "3.6.9"
  }
 },
 "nbformat": 4,
 "nbformat_minor": 2
}
